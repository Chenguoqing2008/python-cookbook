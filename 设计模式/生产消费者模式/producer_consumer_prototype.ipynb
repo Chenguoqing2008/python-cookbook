{
 "cells": [
  {
   "cell_type": "code",
   "execution_count": 1,
   "metadata": {},
   "outputs": [],
   "source": [
    "def consumer():\n",
    "    print(\"[CONSUMER] start\")\n",
    "    r = 'start'\n",
    "    while True:\n",
    "        n = yield r\n",
    "        if not n:\n",
    "            print(\"n is empty\")\n",
    "            continue\n",
    "        print(\"[CONSUMER] Consumer is consuming %s\" % n)\n",
    "        r = \"200 ok\""
   ]
  },
  {
   "cell_type": "code",
   "execution_count": 2,
   "metadata": {},
   "outputs": [],
   "source": [
    "def producer(c):\n",
    "    # 启动generator\n",
    "    start_value = c.send(None)\n",
    "    print(start_value)\n",
    "    n = 0\n",
    "    while n < 3:\n",
    "        n += 1\n",
    "        print(\"[PRODUCER] Producer is producing %d\" % n)\n",
    "        r = c.send(n)\n",
    "        print('[PRODUCER] Consumer return: %s' % r)\n",
    "    # 关闭generator\n",
    "    c.close()"
   ]
  },
  {
   "cell_type": "code",
   "execution_count": 3,
   "metadata": {},
   "outputs": [],
   "source": [
    "c = consumer()"
   ]
  },
  {
   "cell_type": "code",
   "execution_count": 4,
   "metadata": {},
   "outputs": [
    {
     "name": "stdout",
     "output_type": "stream",
     "text": [
      "[CONSUMER] start\n",
      "start\n",
      "[PRODUCER] Producer is producing 1\n",
      "[CONSUMER] Consumer is consuming 1\n",
      "[PRODUCER] Consumer return: 200 ok\n",
      "[PRODUCER] Producer is producing 2\n",
      "[CONSUMER] Consumer is consuming 2\n",
      "[PRODUCER] Consumer return: 200 ok\n",
      "[PRODUCER] Producer is producing 3\n",
      "[CONSUMER] Consumer is consuming 3\n",
      "[PRODUCER] Consumer return: 200 ok\n"
     ]
    }
   ],
   "source": [
    "producer(c)"
   ]
  },
  {
   "cell_type": "code",
   "execution_count": null,
   "metadata": {},
   "outputs": [],
   "source": []
  }
 ],
 "metadata": {
  "kernelspec": {
   "display_name": "Python 3",
   "language": "python",
   "name": "python3"
  },
  "language_info": {
   "codemirror_mode": {
    "name": "ipython",
    "version": 3
   },
   "file_extension": ".py",
   "mimetype": "text/x-python",
   "name": "python",
   "nbconvert_exporter": "python",
   "pygments_lexer": "ipython3",
   "version": "3.6.5"
  }
 },
 "nbformat": 4,
 "nbformat_minor": 2
}

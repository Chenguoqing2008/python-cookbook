{
 "cells": [
  {
   "cell_type": "code",
   "execution_count": 1,
   "metadata": {},
   "outputs": [],
   "source": [
    "# 使用装饰器实现单实例"
   ]
  },
  {
   "cell_type": "code",
   "execution_count": 2,
   "metadata": {},
   "outputs": [
    {
     "name": "stdout",
     "output_type": "stream",
     "text": [
      "True\n"
     ]
    }
   ],
   "source": [
    "def singleton(cls):\n",
    "    _instance = {}\n",
    "\n",
    "    def inner():\n",
    "        if cls not in _instance:\n",
    "            _instance[cls] = cls() \n",
    "        return _instance[cls]\n",
    "    return inner\n",
    "    \n",
    "@singleton\n",
    "class Cls(object):\n",
    "    def __init__(self):\n",
    "        pass\n",
    "\n",
    "cls1 = Cls()\n",
    "cls2 = Cls()\n",
    "print(id(cls1) == id(cls2))"
   ]
  },
  {
   "cell_type": "code",
   "execution_count": 3,
   "metadata": {},
   "outputs": [],
   "source": [
    "import logging\n",
    "import logging.config\n",
    "\n",
    "def singleton(cls):\n",
    "    def get_singleton():\n",
    "        singleton_cls = {}\n",
    "        if cls not in singleton_cls:\n",
    "            singleton_cls[cls] = cls()\n",
    "        return singleton_cls[cls]\n",
    "    return get_singleton()\n",
    "\n",
    "\n",
    "@singleton\n",
    "class Logger:\n",
    "    def __init__(self):\n",
    "        self.logger = logging.getLogger(__name__)\n",
    "        self.handler = logging.StreamHandler()\n",
    "        self.logger.setLevel(logging.DEBUG)\n",
    "        formatter = logging.Formatter(\n",
    "                '%(asctime)s %(levelname)-8s %(message)s')\n",
    "        self.handler.setFormatter(formatter)\n",
    "        self.logger.addHandler(self.handler)"
   ]
  },
  {
   "cell_type": "code",
   "execution_count": 4,
   "metadata": {},
   "outputs": [],
   "source": [
    "# 重写创建实例的__new__方法"
   ]
  },
  {
   "cell_type": "code",
   "execution_count": null,
   "metadata": {},
   "outputs": [],
   "source": [
    "class Single(object):\n",
    "    _instance = None\n",
    "    def __new__(cls, *args, **kw):\n",
    "        if cls._instance is None:\n",
    "            cls._instance = object.__new__(cls, *args, **kw)\n",
    "        return cls._instance\n",
    "    def __init__(self):\n",
    "        pass\n",
    "\n",
    "single1 = Single()\n",
    "single2 = Single()\n",
    "print(id(single1) == id(single2))"
   ]
  }
 ],
 "metadata": {
  "kernelspec": {
   "display_name": "Python 3",
   "language": "python",
   "name": "python3"
  },
  "language_info": {
   "codemirror_mode": {
    "name": "ipython",
    "version": 3
   },
   "file_extension": ".py",
   "mimetype": "text/x-python",
   "name": "python",
   "nbconvert_exporter": "python",
   "pygments_lexer": "ipython3",
   "version": "3.6.5"
  }
 },
 "nbformat": 4,
 "nbformat_minor": 2
}

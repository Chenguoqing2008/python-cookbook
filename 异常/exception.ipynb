{
 "cells": [
  {
   "cell_type": "code",
   "execution_count": 2,
   "metadata": {},
   "outputs": [],
   "source": [
    "# Python try-except Block"
   ]
  },
  {
   "cell_type": "code",
   "execution_count": 3,
   "metadata": {},
   "outputs": [
    {
     "name": "stdout",
     "output_type": "stream",
     "text": [
      "inside try\n",
      "inside except\n",
      "12hello\n",
      "Printed using type-casted data types\n"
     ]
    }
   ],
   "source": [
    "a = 12\n",
    "s = \"hello\"\n",
    "try:\n",
    "    print(\"inside try\")\n",
    "    print(a + s) # will raise TypeError\n",
    "    print(\"Printed using original data types\")\n",
    "except TypeError: # will handle only TypeError\n",
    "    print(\"inside except\")\n",
    "    print(str(a) + s)\n",
    "    print(\"Printed using type-casted data types\")"
   ]
  },
  {
   "cell_type": "code",
   "execution_count": 4,
   "metadata": {},
   "outputs": [],
   "source": [
    "# Multiple Exception Handling in Python"
   ]
  },
  {
   "cell_type": "code",
   "execution_count": 5,
   "metadata": {},
   "outputs": [
    {
     "name": "stdout",
     "output_type": "stream",
     "text": [
      "Error occurred: 'int' object has no attribute 'append'\n"
     ]
    }
   ],
   "source": [
    "try:\n",
    "    if (3 + 4 - 5) > 0:\n",
    "        a = 3\n",
    "        a.append(\"hello\")  # throws AttributeError\n",
    "    else:\n",
    "        print(\"hello\" + 4)  # throws TypeError\n",
    "except (AttributeError, TypeError) as e:\n",
    "    print(\"Error occurred:\", e)"
   ]
  },
  {
   "cell_type": "code",
   "execution_count": 6,
   "metadata": {},
   "outputs": [],
   "source": [
    "# Python finally Block – When Exception Occurs"
   ]
  },
  {
   "cell_type": "code",
   "execution_count": 7,
   "metadata": {},
   "outputs": [
    {
     "name": "stdout",
     "output_type": "stream",
     "text": [
      "Error occurred: 'int' object has no attribute 'append'\n",
      "try except block successfully executed\n"
     ]
    }
   ],
   "source": [
    "try:\n",
    "    if (3 + 4 - 5) > 0:\n",
    "        a = 3\n",
    "        a.append(\"hello\")  # throws Attribute Error\n",
    "    else:\n",
    "        print(\"hello\" + 4)  # throws TypeError\n",
    "except (AttributeError, TypeError) as e:\n",
    "    print(\"Error occurred:\", e)\n",
    "finally:\n",
    "    print(\"try except block successfully executed\")"
   ]
  },
  {
   "cell_type": "code",
   "execution_count": 8,
   "metadata": {},
   "outputs": [],
   "source": [
    "# Python finally Block – When No Exception"
   ]
  },
  {
   "cell_type": "code",
   "execution_count": 9,
   "metadata": {},
   "outputs": [
    {
     "name": "stdout",
     "output_type": "stream",
     "text": [
      "hello4\n",
      "try except block successfully executed\n"
     ]
    }
   ],
   "source": [
    "try:\n",
    "    if (3 + 4 - 5) < 0:\n",
    "        a = 3\n",
    "        print(a + 5)  # simple addition\n",
    "    else:\n",
    "        print(\"hello\" + \"4\")  # string concatenation\n",
    "except (AttributeError, TypeError) as e:\n",
    "    print(\"Error occurred:\", e)\n",
    "finally:\n",
    "    print(\"try except block successfully executed\")"
   ]
  },
  {
   "cell_type": "code",
   "execution_count": 10,
   "metadata": {},
   "outputs": [],
   "source": [
    "# Python Nested try-except Block"
   ]
  },
  {
   "cell_type": "code",
   "execution_count": null,
   "metadata": {},
   "outputs": [],
   "source": [
    "import json\n",
    "import sys\n",
    "\n",
    "try:\n",
    "    with open(\"hello.json\") as fp:\n",
    "        try:\n",
    "            json_dict = json.load(fp)\n",
    "        except json.JSONDecodeError:\n",
    "            print(\"Json file does not exist\")\n",
    "    print(json_dict)\n",
    "except:\n",
    "    print(\"error occurred while parsing json:\", sys.exc_info()[1])"
   ]
  }
 ],
 "metadata": {
  "kernelspec": {
   "display_name": "Python 3",
   "language": "python",
   "name": "python3"
  },
  "language_info": {
   "codemirror_mode": {
    "name": "ipython",
    "version": 3
   },
   "file_extension": ".py",
   "mimetype": "text/x-python",
   "name": "python",
   "nbconvert_exporter": "python",
   "pygments_lexer": "ipython3",
   "version": "3.6.5"
  }
 },
 "nbformat": 4,
 "nbformat_minor": 2
}

{
 "cells": [
  {
   "cell_type": "code",
   "execution_count": 1,
   "metadata": {},
   "outputs": [],
   "source": [
    "#attribute 是类中保存数据的变量，如果需要对attribute进行封装，那么在类的外部为了访问这些attribute，往往会提供一些setter和getter访问器。这些方法在创建和调用\n",
    "#时都比较麻烦，于是Python又提供了property，property本质上就是setter或getter访问器，是一种方法。\n",
    "\n",
    "#@property可以将python定义的函数“当做”属性访问，从而提供更加友好访问方式，但是有时候setter/deleter也是需要的。\n",
    "#1、只有@property表示只读。\n",
    "#2、同时有@property和@x.setter表示可读可写。\n",
    "#3、同时有@property和@x.setter和@x.deleter表示可读可写可删除。"
   ]
  },
  {
   "cell_type": "code",
   "execution_count": 2,
   "metadata": {},
   "outputs": [],
   "source": [
    "class student(object):\n",
    "\n",
    "\tdef __init__(self,id):\n",
    "\t\tself._id = id\n",
    "\t\t\n",
    "\t@property\n",
    "\tdef score(self):\n",
    "\t\treturn self._score\n",
    "\t\t\n",
    "\t@score.setter\n",
    "\tdef score(self,value):\n",
    "\t\tself._score = value\n",
    "\t\n",
    "\t@property\n",
    "\tdef get_id(self):\n",
    "\t\treturn self._id\n"
   ]
  },
  {
   "cell_type": "code",
   "execution_count": 3,
   "metadata": {},
   "outputs": [
    {
     "name": "stdout",
     "output_type": "stream",
     "text": [
      "123\n",
      "30\n"
     ]
    }
   ],
   "source": [
    "a = student(123)\n",
    "print(a.get_id)\n",
    "\n",
    "a.score = 30\n",
    "print(a.score)"
   ]
  },
  {
   "cell_type": "code",
   "execution_count": 4,
   "metadata": {},
   "outputs": [],
   "source": [
    "class A(object):\n",
    "\n",
    "\tdef __init__(self):\n",
    "\t\tself.__name = None\n",
    "# 私用属性以两个下划线开头\n",
    "\t\t\n",
    "\tdef getName(self):\n",
    "\t\treturn self.__name\n",
    "\t\t\n",
    "\tdef setName(self,value):\n",
    "\t\tself.__name = value\n",
    "\n",
    "\tdef delName(self):\n",
    "\t    del self.__name\n",
    "\t\n",
    "\tname = property(getName,setName,delName)"
   ]
  },
  {
   "cell_type": "code",
   "execution_count": 5,
   "metadata": {},
   "outputs": [
    {
     "name": "stdout",
     "output_type": "stream",
     "text": [
      "None\n",
      "Python\n"
     ]
    }
   ],
   "source": [
    "a = A()\n",
    "print(a.name)\n",
    "a.name = 'Python'\n",
    "print(a.name)\n",
    "del a.name"
   ]
  },
  {
   "cell_type": "code",
   "execution_count": 6,
   "metadata": {},
   "outputs": [],
   "source": [
    "class B(object):\n",
    "\n",
    "\tdef __init__(self):\n",
    "\t\tself.__name = None\n",
    "\t\n",
    "\t@property\n",
    "\tdef name(self):\n",
    "\t\treturn self.__name\n",
    "\t\t\n",
    "\t@name.setter\n",
    "\tdef name(self,value):\n",
    "\t\tself.__name = value\n",
    "\n",
    "\t@name.deleter\n",
    "\tdef name(self):\n",
    "\t    del self.__name"
   ]
  },
  {
   "cell_type": "code",
   "execution_count": 7,
   "metadata": {},
   "outputs": [
    {
     "name": "stdout",
     "output_type": "stream",
     "text": [
      "None\n",
      "Python\n"
     ]
    }
   ],
   "source": [
    "b = B()\n",
    "print(b.name)\n",
    "b.name = 'Python'\n",
    "print(b.name)\n",
    "del b.name"
   ]
  },
  {
   "cell_type": "code",
   "execution_count": null,
   "metadata": {},
   "outputs": [],
   "source": []
  }
 ],
 "metadata": {
  "kernelspec": {
   "display_name": "Python 3",
   "language": "python",
   "name": "python3"
  },
  "language_info": {
   "codemirror_mode": {
    "name": "ipython",
    "version": 3
   },
   "file_extension": ".py",
   "mimetype": "text/x-python",
   "name": "python",
   "nbconvert_exporter": "python",
   "pygments_lexer": "ipython3",
   "version": "3.6.5"
  }
 },
 "nbformat": 4,
 "nbformat_minor": 2
}

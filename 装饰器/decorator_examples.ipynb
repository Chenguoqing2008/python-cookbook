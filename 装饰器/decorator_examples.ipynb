{
 "cells": [
  {
   "cell_type": "code",
   "execution_count": 7,
   "metadata": {},
   "outputs": [],
   "source": [
    "def decorator(foo):\n",
    "    def inner():\n",
    "        print(\"hello\")\n",
    "        foo()\n",
    "    return inner\n"
   ]
  },
  {
   "cell_type": "code",
   "execution_count": 8,
   "metadata": {},
   "outputs": [],
   "source": [
    "@decorator\n",
    "def test_decorator():\n",
    "        print(\"ha ha\")\n",
    "\n",
    "# is equal to decorator(test_decorator)"
   ]
  },
  {
   "cell_type": "code",
   "execution_count": 9,
   "metadata": {},
   "outputs": [
    {
     "name": "stdout",
     "output_type": "stream",
     "text": [
      "hello\n",
      "ha ha\n"
     ]
    }
   ],
   "source": [
    "test_decorator()"
   ]
  },
  {
   "cell_type": "code",
   "execution_count": 10,
   "metadata": {},
   "outputs": [
    {
     "name": "stdout",
     "output_type": "stream",
     "text": [
      "Oops! Array index is out of range\n"
     ]
    }
   ],
   "source": [
    "array = ['a', 'b', 'c']\n",
    "\n",
    "def decorator(func):\n",
    "    def newValueOf(pos):\n",
    "        if pos >= len(array):\n",
    "            print(\"Oops! Array index is out of range\")\n",
    "            return\n",
    "        func(pos)\n",
    "\n",
    "    return newValueOf\n",
    "\n",
    "\n",
    "@decorator\n",
    "def valueOf(index):\n",
    "    print(array[index])\n",
    "\n",
    "# is equal to decorator(valueOf(index))\n",
    "\t\n",
    "valueOf(7)"
   ]
  },
  {
   "cell_type": "code",
   "execution_count": 11,
   "metadata": {},
   "outputs": [
    {
     "name": "stdout",
     "output_type": "stream",
     "text": [
      "Function took 2.0025582313537598 seconds to run\n"
     ]
    }
   ],
   "source": [
    "import time                                                                                                               \n",
    "                                                                                                                          \n",
    "def measure_time(func):                                                                                                   \n",
    "                                                                                                                          \n",
    "  def wrapper(*arg):                                                                                                      \n",
    "      t = time.time()                                                                                                     \n",
    "      res = func(*arg)                                                                                                    \n",
    "      print(\"Function took \" + str(time.time()-t) + \" seconds to run\")                                                    \n",
    "      return res                                                                                                          \n",
    "                                                                                                                          \n",
    "  return wrapper                                                                                                          \n",
    "                                                                                                                          \n",
    "@measure_time                                                                                                             \n",
    "def myFunction(n):                                                                                                        \n",
    "  time.sleep(n)                                                                                                           \n",
    "                                                                                                                          \n",
    "                                                                                             \n",
    "myFunction(2)    "
   ]
  },
  {
   "cell_type": "code",
   "execution_count": 13,
   "metadata": {},
   "outputs": [],
   "source": [
    "# both have parameters"
   ]
  },
  {
   "cell_type": "code",
   "execution_count": 1,
   "metadata": {},
   "outputs": [],
   "source": [
    "# @decomaker(argA, argB, ...)\n",
    "# def func(arg1, arg2, ...):\n",
    "#    pass\n",
    "\n",
    "# func = decomaker(argA, argB, ...)(func)    "
   ]
  },
  {
   "cell_type": "code",
   "execution_count": 24,
   "metadata": {},
   "outputs": [
    {
     "name": "stdout",
     "output_type": "stream",
     "text": [
      "1\n",
      "hello\n"
     ]
    }
   ],
   "source": [
    "def decor_arg(argA):\n",
    "    def print_decor(fn):\n",
    "        def wrapper(*arg,**kargs):\n",
    "            fn(*arg,**kargs)\n",
    "            print(argA)\n",
    "        return wrapper\n",
    "    return print_decor\n",
    "\n",
    "@decor_arg(\"hello\")\n",
    "def print_hello_world(name):\n",
    "    print(\"1\")\n",
    "#     print(\"hello\" + name)\n",
    "\n",
    "print_hello_world(\"world\")"
   ]
  },
  {
   "cell_type": "code",
   "execution_count": 25,
   "metadata": {},
   "outputs": [],
   "source": [
    "# 一个比较复杂的例子，选自python 核心编程"
   ]
  },
  {
   "cell_type": "code",
   "execution_count": 29,
   "metadata": {},
   "outputs": [
    {
     "name": "stdout",
     "output_type": "stream",
     "text": [
      "hello World!\n",
      " function: <function hello at 0x000001E3DDEC59D8>\n",
      "        args: ('World!',)\n",
      "        kargs: {} \n",
      "time delta: 0.0009970664978027344\n"
     ]
    }
   ],
   "source": [
    "from time import time\n",
    "\n",
    "def logged(when):\n",
    "    def log(f,*args,**kargs):\n",
    "        print(''' function: {!s}\n",
    "        args: {!r}\n",
    "        kargs: {!r} '''.format(f,args,kargs))\n",
    "        \n",
    "    def pre_logged(f):\n",
    "        def wrapper(*args,**kargs):\n",
    "            log(f,*args,**kargs)\n",
    "            return f(*args,**kargs)\n",
    "        return wrapper\n",
    "    \n",
    "    def post_logged(f):\n",
    "        def wrapper(*args,**kargs):\n",
    "            now = time()\n",
    "            try:\n",
    "                return f(*args,**kargs)\n",
    "            finally:\n",
    "                log(f,*args,**kargs)\n",
    "                print(\"time delta: {!s}\".format(time()-now))\n",
    "        return wrapper\n",
    "    \n",
    "    try:\n",
    "        return {\"pre\":pre_logged,\n",
    "               \"post\":post_logged}[when]\n",
    "    except KeyError as e:\n",
    "        raise ValueError('must be \"pre\" or \"post\"')\n",
    "        \n",
    "@logged(\"post\")\n",
    "def hello(name):\n",
    "    print(\"hello\",name)\n",
    "    \n",
    "hello(\"World!\")"
   ]
  },
  {
   "cell_type": "code",
   "execution_count": null,
   "metadata": {},
   "outputs": [],
   "source": []
  }
 ],
 "metadata": {
  "kernelspec": {
   "display_name": "Python 3",
   "language": "python",
   "name": "python3"
  },
  "language_info": {
   "codemirror_mode": {
    "name": "ipython",
    "version": 3
   },
   "file_extension": ".py",
   "mimetype": "text/x-python",
   "name": "python",
   "nbconvert_exporter": "python",
   "pygments_lexer": "ipython3",
   "version": "3.6.5"
  }
 },
 "nbformat": 4,
 "nbformat_minor": 2
}

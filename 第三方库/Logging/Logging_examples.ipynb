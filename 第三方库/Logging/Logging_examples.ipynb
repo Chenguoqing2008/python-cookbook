{
 "cells": [
  {
   "cell_type": "code",
   "execution_count": 1,
   "metadata": {},
   "outputs": [],
   "source": [
    "# Logging pitfall 1"
   ]
  },
  {
   "cell_type": "code",
   "execution_count": 2,
   "metadata": {},
   "outputs": [
    {
     "name": "stderr",
     "output_type": "stream",
     "text": [
      "INFO:root:hello!\n",
      "INFO:hello!\n"
     ]
    }
   ],
   "source": [
    "import logging\n",
    "logging.basicConfig(level=logging.DEBUG)\n",
    "fmt = '%(levelname)s:%(message)s'\n",
    "console_handler = logging.StreamHandler()\n",
    "console_handler.setFormatter(logging.Formatter(fmt))\n",
    "logging.getLogger().addHandler(console_handler)\n",
    "logging.info('hello!')\n",
    "# INFO:root:hello!\n",
    "# INFO:hello!"
   ]
  },
  {
   "cell_type": "code",
   "execution_count": 6,
   "metadata": {},
   "outputs": [],
   "source": [
    "# 上面这个例子出现了重复日志，因为在第3行调用basicConfig()方法时系统会默认创建一个handler，如果你再添\n",
    "# 加一个控制台handler时就会出现重复日志。"
   ]
  },
  {
   "cell_type": "code",
   "execution_count": 4,
   "metadata": {},
   "outputs": [],
   "source": [
    "# Logging pitfall 2"
   ]
  },
  {
   "cell_type": "code",
   "execution_count": 5,
   "metadata": {},
   "outputs": [
    {
     "name": "stderr",
     "output_type": "stream",
     "text": [
      "INFO:hi\n",
      "INFO:App:hi\n",
      "INFO:hi\n"
     ]
    }
   ],
   "source": [
    "import logging\n",
    "\n",
    "def get_logger():\n",
    "    fmt = '%(levelname)s:%(message)s'\n",
    "    console_handler = logging.StreamHandler()  #first time\n",
    "    console_handler.setFormatter(logging.Formatter(fmt))\n",
    "    logger = logging.getLogger('App')  # second time\n",
    "    logger.setLevel(logging.INFO)\n",
    "    logger.addHandler(console_handler)\n",
    "    return logger\n",
    "def call_me():\n",
    "    logger = get_logger()\n",
    "    logger.info('hi')  #third time\n",
    "call_me()"
   ]
  },
  {
   "cell_type": "code",
   "execution_count": 7,
   "metadata": {},
   "outputs": [],
   "source": [
    "# 在这个例子里hi居然打印了三次，如果再调用一次call_me()呢？我告诉你会打印6次。why? 因为你每次调用get_logger()方法时都\n",
    "# 会给它加一个新的handler，\n",
    "# 你是自作自受。正常的做法应该是全局只配置logger一次。"
   ]
  },
  {
   "cell_type": "code",
   "execution_count": 8,
   "metadata": {},
   "outputs": [
    {
     "name": "stderr",
     "output_type": "stream",
     "text": [
      "INFO:App start.\n",
      "INFO: App start.\n",
      "INFO:App:App start.\n",
      "INFO:App start.\n",
      "C:\\Users\\dell\\Anaconda3\\lib\\site-packages\\ipykernel_launcher.py:12: DeprecationWarning: The 'warn' function is deprecated, use 'warning' instead\n",
      "  if sys.path[0] == '':\n",
      "WARNING:root:some module use root logger\n",
      "WARNING:some module use root logger\n",
      "INFO:App shutdown.\n",
      "INFO: App shutdown.\n",
      "INFO:App:App shutdown.\n",
      "INFO:App shutdown.\n"
     ]
    }
   ],
   "source": [
    "import logging\n",
    "def get_logger():\n",
    "    fmt = '%(levelname)s: %(message)s'\n",
    "    console_handler = logging.StreamHandler()\n",
    "    console_handler.setFormatter(logging.Formatter(fmt))\n",
    "    logger = logging.getLogger('App')   # root logger\n",
    "    logger.setLevel(logging.INFO)\n",
    "    logger.addHandler(console_handler)\n",
    "    return logger\n",
    "def foo():\n",
    "    logging.basicConfig(format='[%(name)s]: %(message)s')\n",
    "    logging.warn('some module use root logger')\n",
    "def main():\n",
    "    logger = get_logger()\n",
    "    logger.info('App start.')\n",
    "    foo()\n",
    "    logger.info('App shutdown.')\n",
    "main()"
   ]
  },
  {
   "cell_type": "code",
   "execution_count": null,
   "metadata": {},
   "outputs": [],
   "source": [
    "# 只要你在程序中使用过root logger，那么默认你打印的所有日志都算它一份。"
   ]
  }
 ],
 "metadata": {
  "kernelspec": {
   "display_name": "Python 3",
   "language": "python",
   "name": "python3"
  },
  "language_info": {
   "codemirror_mode": {
    "name": "ipython",
    "version": 3
   },
   "file_extension": ".py",
   "mimetype": "text/x-python",
   "name": "python",
   "nbconvert_exporter": "python",
   "pygments_lexer": "ipython3",
   "version": "3.6.5"
  }
 },
 "nbformat": 4,
 "nbformat_minor": 2
}

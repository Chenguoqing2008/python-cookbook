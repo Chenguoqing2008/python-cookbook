{
 "cells": [
  {
   "cell_type": "code",
   "execution_count": 2,
   "metadata": {},
   "outputs": [],
   "source": [
    "import itertools\n",
    "def print_pi(number):\n",
    "    j = 0\n",
    "    natuals = itertools.count(start=1, step=2)\n",
    "    ns = itertools.takewhile(lambda x: x <= number, natuals)\n",
    "    ns_list = [i for i in ns]\n",
    "    new_list = [4/i if ns_list.index(i)%2 == 0 else -4/i for i in ns_list]\n",
    "    print(new_list)\n",
    "    for i in new_list:\n",
    "        j += i\n",
    "    print(\"pi is: {}\".format(j))"
   ]
  },
  {
   "cell_type": "code",
   "execution_count": 3,
   "metadata": {},
   "outputs": [
    {
     "name": "stdout",
     "output_type": "stream",
     "text": [
      "[4.0, -1.3333333333333333, 0.8, -0.5714285714285714, 0.4444444444444444, -0.36363636363636365, 0.3076923076923077, -0.26666666666666666, 0.23529411764705882, -0.21052631578947367, 0.19047619047619047, -0.17391304347826086, 0.16, -0.14814814814814814, 0.13793103448275862, -0.12903225806451613, 0.12121212121212122, -0.11428571428571428, 0.10810810810810811, -0.10256410256410256, 0.0975609756097561, -0.09302325581395349, 0.08888888888888889, -0.0851063829787234, 0.08163265306122448, -0.0784313725490196, 0.07547169811320754, -0.07272727272727272, 0.07017543859649122, -0.06779661016949153, 0.06557377049180328, -0.06349206349206349, 0.06153846153846154, -0.05970149253731343, 0.057971014492753624, -0.056338028169014086, 0.0547945205479452, -0.05333333333333334, 0.05194805194805195, -0.05063291139240506, 0.04938271604938271, -0.04819277108433735, 0.047058823529411764, -0.04597701149425287, 0.0449438202247191, -0.04395604395604396, 0.043010752688172046, -0.042105263157894736, 0.041237113402061855, -0.04040404040404041]\n",
      "pi is: 3.121594652591011\n"
     ]
    }
   ],
   "source": [
    "print_pi(100)"
   ]
  },
  {
   "cell_type": "code",
   "execution_count": 12,
   "metadata": {},
   "outputs": [],
   "source": [
    "import itertools\n",
    "\n",
    "def print_pi_enumerate(number):\n",
    "    j = 0\n",
    "    natuals = itertools.count(start=1, step=2)\n",
    "    ns = itertools.takewhile(lambda x: x <= number, natuals)\n",
    "    ns_list = [i for i in ns]\n",
    "\n",
    "    calculate = [4/x if i%2 == 0 else -4/x for i, x in enumerate(ns_list)]\n",
    "\n",
    "    print(calculate)\n",
    "    \n",
    "    for i in calculate:\n",
    "        j += i\n",
    "    print(\"pi is: {}\".format(j))"
   ]
  },
  {
   "cell_type": "code",
   "execution_count": 13,
   "metadata": {},
   "outputs": [
    {
     "name": "stdout",
     "output_type": "stream",
     "text": [
      "[4.0, -1.3333333333333333, 0.8, -0.5714285714285714, 0.4444444444444444, -0.36363636363636365, 0.3076923076923077, -0.26666666666666666, 0.23529411764705882, -0.21052631578947367, 0.19047619047619047, -0.17391304347826086, 0.16, -0.14814814814814814, 0.13793103448275862, -0.12903225806451613, 0.12121212121212122, -0.11428571428571428, 0.10810810810810811, -0.10256410256410256, 0.0975609756097561, -0.09302325581395349, 0.08888888888888889, -0.0851063829787234, 0.08163265306122448, -0.0784313725490196, 0.07547169811320754, -0.07272727272727272, 0.07017543859649122, -0.06779661016949153, 0.06557377049180328, -0.06349206349206349, 0.06153846153846154, -0.05970149253731343, 0.057971014492753624, -0.056338028169014086, 0.0547945205479452, -0.05333333333333334, 0.05194805194805195, -0.05063291139240506, 0.04938271604938271, -0.04819277108433735, 0.047058823529411764, -0.04597701149425287, 0.0449438202247191, -0.04395604395604396, 0.043010752688172046, -0.042105263157894736, 0.041237113402061855, -0.04040404040404041]\n",
      "pi is: 3.121594652591011\n"
     ]
    }
   ],
   "source": [
    "print_pi_enumerate(100)"
   ]
  },
  {
   "cell_type": "code",
   "execution_count": 32,
   "metadata": {},
   "outputs": [],
   "source": [
    "import operator\n",
    "\n",
    "def accumulate(iterable, func=operator.add):\n",
    "    'Return running totals'\n",
    "    # accumulate([1,2,3,4,5]) --> 1 3 6 10 15\n",
    "    # accumulate([1,2,3,4,5], operator.mul) --> 1 2 6 24 120\n",
    "    it = iter(iterable)\n",
    "    try:\n",
    "        total = next(it)\n",
    "    except StopIteration:\n",
    "        return\n",
    "    yield total\n",
    "    print(\"total is: \",total)\n",
    "    for element in it:\n",
    "        total = func(total, element)\n",
    "        yield total\n",
    "        print(\"total in for loop is: \",total)"
   ]
  },
  {
   "cell_type": "code",
   "execution_count": null,
   "metadata": {},
   "outputs": [],
   "source": []
  }
 ],
 "metadata": {
  "kernelspec": {
   "display_name": "Python 3",
   "language": "python",
   "name": "python3"
  },
  "language_info": {
   "codemirror_mode": {
    "name": "ipython",
    "version": 3
   },
   "file_extension": ".py",
   "mimetype": "text/x-python",
   "name": "python",
   "nbconvert_exporter": "python",
   "pygments_lexer": "ipython3",
   "version": "3.6.5"
  }
 },
 "nbformat": 4,
 "nbformat_minor": 2
}

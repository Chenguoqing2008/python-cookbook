{
 "cells": [
  {
   "cell_type": "code",
   "execution_count": 1,
   "metadata": {},
   "outputs": [],
   "source": [
    "# operator模块是python中内置的操作符函数接口，它定义了一些算术和比较内置操作的函数。operator模块是用c实现的，所以执行速度比python代码快。"
   ]
  },
  {
   "cell_type": "code",
   "execution_count": 2,
   "metadata": {},
   "outputs": [],
   "source": [
    "from operator import *"
   ]
  },
  {
   "cell_type": "code",
   "execution_count": null,
   "metadata": {},
   "outputs": [],
   "source": [
    "# 逻辑操作符"
   ]
  },
  {
   "cell_type": "code",
   "execution_count": 3,
   "metadata": {},
   "outputs": [],
   "source": [
    "a = 2"
   ]
  },
  {
   "cell_type": "code",
   "execution_count": 4,
   "metadata": {},
   "outputs": [],
   "source": [
    "b = 3"
   ]
  },
  {
   "cell_type": "code",
   "execution_count": 5,
   "metadata": {},
   "outputs": [
    {
     "data": {
      "text/plain": [
       "False"
      ]
     },
     "execution_count": 5,
     "metadata": {},
     "output_type": "execute_result"
    }
   ],
   "source": [
    "not_(a)"
   ]
  },
  {
   "cell_type": "code",
   "execution_count": 8,
   "metadata": {},
   "outputs": [],
   "source": [
    "c = True"
   ]
  },
  {
   "cell_type": "code",
   "execution_count": 9,
   "metadata": {},
   "outputs": [
    {
     "data": {
      "text/plain": [
       "False"
      ]
     },
     "execution_count": 9,
     "metadata": {},
     "output_type": "execute_result"
    }
   ],
   "source": [
    "not_(c)"
   ]
  },
  {
   "cell_type": "code",
   "execution_count": 10,
   "metadata": {},
   "outputs": [
    {
     "data": {
      "text/plain": [
       "True"
      ]
     },
     "execution_count": 10,
     "metadata": {},
     "output_type": "execute_result"
    }
   ],
   "source": [
    "truth(b)"
   ]
  },
  {
   "cell_type": "code",
   "execution_count": 11,
   "metadata": {},
   "outputs": [
    {
     "data": {
      "text/plain": [
       "False"
      ]
     },
     "execution_count": 11,
     "metadata": {},
     "output_type": "execute_result"
    }
   ],
   "source": [
    "is_(a,b)"
   ]
  },
  {
   "cell_type": "code",
   "execution_count": 12,
   "metadata": {},
   "outputs": [
    {
     "data": {
      "text/plain": [
       "True"
      ]
     },
     "execution_count": 12,
     "metadata": {},
     "output_type": "execute_result"
    }
   ],
   "source": [
    "is_not(a,b)"
   ]
  },
  {
   "cell_type": "code",
   "execution_count": 13,
   "metadata": {},
   "outputs": [],
   "source": [
    "# 比较操作符"
   ]
  },
  {
   "cell_type": "code",
   "execution_count": 16,
   "metadata": {},
   "outputs": [
    {
     "name": "stdout",
     "output_type": "stream",
     "text": [
      "True\n",
      "True\n",
      "False\n",
      "True\n",
      "False\n",
      "False\n"
     ]
    }
   ],
   "source": [
    "for func in (lt, le, eq, ne, ge, gt):\n",
    "    print(func(a,b))"
   ]
  },
  {
   "cell_type": "code",
   "execution_count": 17,
   "metadata": {},
   "outputs": [
    {
     "data": {
      "text/plain": [
       "'\\n'"
      ]
     },
     "execution_count": 17,
     "metadata": {},
     "output_type": "execute_result"
    }
   ],
   "source": [
    "\"\"\"\n",
    "算术操作符\n",
    "处理数字的算术操作符也得到支持。\n",
    "主要有:\n",
    "\n",
    "正反操作\n",
    "abs\n",
    "neg\n",
    "pos\n",
    "算术操作\n",
    "add\n",
    "div\n",
    "floordiv 整除除法\n",
    "mod\n",
    "mul\n",
    "pow\n",
    "sub\n",
    "truediv(a,b) 浮点数除法\n",
    "位操作\n",
    "and_ 按位与\n",
    "invert 取反\n",
    "lshift(c,d) 左移位\n",
    "or_(c,d) 按位或\n",
    "rshift(d,c) 右移位\n",
    "xor(c,d) 异或\n",
    "\n",
    "\"\"\""
   ]
  },
  {
   "cell_type": "code",
   "execution_count": 18,
   "metadata": {},
   "outputs": [],
   "source": [
    "# 序列操作符"
   ]
  },
  {
   "cell_type": "code",
   "execution_count": 19,
   "metadata": {},
   "outputs": [],
   "source": [
    "# 处理序列的操作符可以分为四组：建立序列，搜索元素，访问内容和从序列中删除元素。"
   ]
  },
  {
   "cell_type": "code",
   "execution_count": 20,
   "metadata": {},
   "outputs": [],
   "source": [
    "# 建立序列"
   ]
  },
  {
   "cell_type": "code",
   "execution_count": 22,
   "metadata": {},
   "outputs": [
    {
     "name": "stdout",
     "output_type": "stream",
     "text": [
      "[1, 2, 3, 'a', 'b', 'c']\n"
     ]
    }
   ],
   "source": [
    "a = [1,2,3]\n",
    "b = ['a', 'b', 'c']\n",
    "print(concat(a,b))"
   ]
  },
  {
   "cell_type": "code",
   "execution_count": 23,
   "metadata": {},
   "outputs": [],
   "source": [
    "# 搜索序列"
   ]
  },
  {
   "cell_type": "code",
   "execution_count": 25,
   "metadata": {},
   "outputs": [
    {
     "name": "stdout",
     "output_type": "stream",
     "text": [
      "True\n",
      "False\n",
      "0\n",
      "0\n"
     ]
    }
   ],
   "source": [
    "print(contains(a,1))    \n",
    "print(contains(b,\"d\"))  \n",
    "print(countOf(b,\"d\"))\n",
    "print(indexOf(a,1))"
   ]
  },
  {
   "cell_type": "code",
   "execution_count": 26,
   "metadata": {},
   "outputs": [],
   "source": [
    "# 访问序列"
   ]
  },
  {
   "cell_type": "code",
   "execution_count": 30,
   "metadata": {},
   "outputs": [
    {
     "data": {
      "text/plain": [
       "slice([1, 2, 3], 1, 3)"
      ]
     },
     "execution_count": 30,
     "metadata": {},
     "output_type": "execute_result"
    }
   ],
   "source": [
    "getitem(b,1)\n",
    "setitem(b,1,'d')\n",
    "slice(a,1,3)"
   ]
  },
  {
   "cell_type": "code",
   "execution_count": 31,
   "metadata": {},
   "outputs": [],
   "source": [
    "# 从序列中删除元素"
   ]
  },
  {
   "cell_type": "code",
   "execution_count": 32,
   "metadata": {},
   "outputs": [],
   "source": [
    "delitem(b,1)"
   ]
  },
  {
   "cell_type": "code",
   "execution_count": 33,
   "metadata": {},
   "outputs": [
    {
     "data": {
      "text/plain": [
       "['a', 'c']"
      ]
     },
     "execution_count": 33,
     "metadata": {},
     "output_type": "execute_result"
    }
   ],
   "source": [
    "b"
   ]
  },
  {
   "cell_type": "code",
   "execution_count": 35,
   "metadata": {},
   "outputs": [],
   "source": [
    "# 属性和元素的获取方法"
   ]
  },
  {
   "cell_type": "code",
   "execution_count": 37,
   "metadata": {},
   "outputs": [
    {
     "data": {
      "text/plain": [
       "'\\noperator模块最特别的特性之一就是获取方法的概念，获取方法是运行时构造的一些可回调对象，用\\n来获取对象的属性或序列的内容，获取方法在处理迭代器或生成器序列的时候特别\\n有用，它们引入的开销会大大降低lambda或Python函数的开销。\\n'"
      ]
     },
     "execution_count": 37,
     "metadata": {},
     "output_type": "execute_result"
    }
   ],
   "source": [
    "\"\"\"\n",
    "operator模块最特别的特性之一就是获取方法的概念，获取方法是运行时构造的一些可回调对象，用\n",
    "来获取对象的属性或序列的内容，获取方法在处理迭代器或生成器序列的时候特别\n",
    "有用，它们引入的开销会大大降低lambda或Python函数的开销。\n",
    "\"\"\""
   ]
  },
  {
   "cell_type": "code",
   "execution_count": 40,
   "metadata": {},
   "outputs": [
    {
     "name": "stdout",
     "output_type": "stream",
     "text": [
      "Object: [MyObj(0), MyObj(1), MyObj(2), MyObj(3), MyObj(4)]\n",
      "arg values: [0, 1, 2, 3, 4]\n",
      "reversed: [MyObj(4), MyObj(3), MyObj(2), MyObj(1), MyObj(0)]\n",
      "sorted: [MyObj(0), MyObj(1), MyObj(2), MyObj(3), MyObj(4)]\n"
     ]
    }
   ],
   "source": [
    "from operator import *\n",
    "class MyObj(object):\n",
    "    def __init__(self, arg):\n",
    "        super(MyObj, self).__init__()\n",
    "        self.arg = arg\n",
    "    def __repr__(self):\n",
    "        return 'MyObj(%s)' % self.arg\n",
    "\n",
    "objs = [MyObj(i) for i in range(5)]\n",
    "print(\"Object:\", objs)\n",
    "\n",
    "g = attrgetter(\"arg\")\n",
    "vals = [g(i) for i in objs]\n",
    "print(\"arg values:\", vals)\n",
    "\n",
    "objs.reverse()\n",
    "print(\"reversed:\", objs)\n",
    "print(\"sorted:\", sorted(objs, key=g))"
   ]
  },
  {
   "cell_type": "code",
   "execution_count": 41,
   "metadata": {},
   "outputs": [],
   "source": [
    "# 属性获取方法类似于lambda x, n='attrname':getattr(x,nz）\n",
    "# 元素获取方法类似于lambda x,y=5:x[y]"
   ]
  },
  {
   "cell_type": "code",
   "execution_count": 44,
   "metadata": {},
   "outputs": [
    {
     "name": "stdout",
     "output_type": "stream",
     "text": [
      "dictionaries: [{'val': 0}, {'val': -1}, {'val': -2}, {'val': -3}]\n",
      "values:  [0, -1, -2, -3]\n",
      "sorted: [{'val': -3}, {'val': -2}, {'val': -1}, {'val': 0}]\n",
      "tuples:  [(0, 0), (1, -2), (2, -4), (3, -6)]\n",
      "values: [0, -2, -4, -6]\n",
      "sorted: [(3, -6), (2, -4), (1, -2), (0, 0)]\n"
     ]
    }
   ],
   "source": [
    "from operator import *\n",
    "\n",
    "l = [dict(val=-1*i) for i in range(4)]\n",
    "print(\"dictionaries:\", l)\n",
    "g = itemgetter(\"val\")\n",
    "vals  = [g(i) for i in l]\n",
    "print(\"values: \", vals)\n",
    "print(\"sorted:\", sorted(l, key=g))\n",
    "\n",
    "l = [(i,i*-2) for i in range(4)]\n",
    "print(\"tuples: \", l)\n",
    "g = itemgetter(1)\n",
    "vals = [g(i) for i in l]\n",
    "print(\"values:\", vals)\n",
    "print(\"sorted:\", sorted(l, key=g))"
   ]
  },
  {
   "cell_type": "code",
   "execution_count": 45,
   "metadata": {},
   "outputs": [],
   "source": [
    "# 获取对象方法"
   ]
  },
  {
   "cell_type": "code",
   "execution_count": 46,
   "metadata": {},
   "outputs": [],
   "source": [
    "# 使用methodcaller可以获取对象的方法。"
   ]
  },
  {
   "cell_type": "code",
   "execution_count": 47,
   "metadata": {},
   "outputs": [
    {
     "name": "stdout",
     "output_type": "stream",
     "text": [
      "Jim\n"
     ]
    }
   ],
   "source": [
    "from operator import methodcaller\n",
    "\n",
    "class Student(object):\n",
    "    def __init__(self, name):\n",
    "        self.name = name\n",
    "\n",
    "    def getName(self):\n",
    "        return self.name\n",
    "\n",
    "stu = Student(\"Jim\")\n",
    "func = methodcaller('getName')\n",
    "print(func(stu))   # 输出Jim"
   ]
  },
  {
   "cell_type": "code",
   "execution_count": 48,
   "metadata": {},
   "outputs": [],
   "source": [
    "# 看下attrgetter的实现 有许多参考意义"
   ]
  },
  {
   "cell_type": "code",
   "execution_count": 49,
   "metadata": {},
   "outputs": [],
   "source": [
    "def attrgetter(*items):\n",
    "    if any(not isinstance(item, str) for item in items):\n",
    "        raise TypeError('attribute name must be a string')\n",
    "    if len(items) == 1:\n",
    "        attr = items[0]\n",
    "        def g(obj):\n",
    "            return resolve_attr(obj, attr)\n",
    "    else:\n",
    "        def g(obj):\n",
    "            return tuple(resolve_attr(obj, attr) for attr in items)\n",
    "    return g\n",
    "\n",
    "def resolve_attr(obj, attr):\n",
    "    for name in attr.split(\".\"):\n",
    "        obj = getattr(obj, name)\n",
    "    return obj"
   ]
  },
  {
   "cell_type": "code",
   "execution_count": null,
   "metadata": {},
   "outputs": [],
   "source": []
  }
 ],
 "metadata": {
  "kernelspec": {
   "display_name": "Python 3",
   "language": "python",
   "name": "python3"
  },
  "language_info": {
   "codemirror_mode": {
    "name": "ipython",
    "version": 3
   },
   "file_extension": ".py",
   "mimetype": "text/x-python",
   "name": "python",
   "nbconvert_exporter": "python",
   "pygments_lexer": "ipython3",
   "version": "3.6.5"
  }
 },
 "nbformat": 4,
 "nbformat_minor": 2
}

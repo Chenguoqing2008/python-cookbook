{
 "cells": [
  {
   "cell_type": "code",
   "execution_count": null,
   "metadata": {},
   "outputs": [],
   "source": [
    "# functools.partial(func, *args, **keywords)\n",
    "# Return a new partial object which when called will behave like func \n",
    "# called with the positional arguments args and keyword arguments keywords. \n",
    "# If more arguments are supplied to the call, they are appended to args. If additional \n",
    "# keyword arguments are supplied, they extend and override keywords. Roughly equivalent to:"
   ]
  },
  {
   "cell_type": "code",
   "execution_count": 2,
   "metadata": {},
   "outputs": [],
   "source": [
    "def partial(func, *args, **keywords):\n",
    "    def newfunc(*fargs, **fkeywords):\n",
    "        newkeywords = keywords.copy()\n",
    "        newkeywords.update(fkeywords)\n",
    "        return func(*args, *fargs, **newkeywords)\n",
    "    newfunc.func = func\n",
    "    newfunc.args = args\n",
    "    newfunc.keywords = keywords\n",
    "    return newfunc"
   ]
  },
  {
   "cell_type": "code",
   "execution_count": null,
   "metadata": {},
   "outputs": [],
   "source": [
    "# The partial() is used for partial function application which “freezes” some portion \n",
    "# of a function’s arguments and/or keywords resulting in a new object with a simplified \n",
    "# signature. For example, partial() can be used to create a callable that behaves like the \n",
    "# int() function where the base argument defaults to two:"
   ]
  },
  {
   "cell_type": "code",
   "execution_count": 3,
   "metadata": {},
   "outputs": [],
   "source": [
    "from functools import partial"
   ]
  },
  {
   "cell_type": "code",
   "execution_count": 4,
   "metadata": {},
   "outputs": [],
   "source": [
    "basetwo = partial(int, base=2)"
   ]
  },
  {
   "cell_type": "code",
   "execution_count": 5,
   "metadata": {},
   "outputs": [],
   "source": [
    "basetwo.__doc__ = 'Convert base 2 string to an int.'"
   ]
  },
  {
   "cell_type": "code",
   "execution_count": 6,
   "metadata": {},
   "outputs": [
    {
     "data": {
      "text/plain": [
       "18"
      ]
     },
     "execution_count": 6,
     "metadata": {},
     "output_type": "execute_result"
    }
   ],
   "source": [
    "basetwo('10010')"
   ]
  },
  {
   "cell_type": "code",
   "execution_count": 1,
   "metadata": {},
   "outputs": [
    {
     "name": "stdout",
     "output_type": "stream",
     "text": [
      "(1, 2, 3)\n",
      "{}\n",
      "(1, 2, 3, 4, 5, 6)\n",
      "{}\n",
      "(1, 2, 3)\n",
      "{'a': 'python', 'b': 'itcast'}\n",
      "()\n",
      "{'a': 3, 'b': 'linux'}\n",
      "(1, 2)\n",
      "{'a': 3, 'b': 'linux'}\n",
      "()\n",
      "{'a': 'python', 'b': 'itcast'}\n"
     ]
    }
   ],
   "source": [
    "import functools\n",
    " \n",
    "def showarg(*args, **kw):\n",
    "    print(args)\n",
    "    print(kw)\n",
    " \n",
    "p1=functools.partial(showarg, 1,2,3)\n",
    "p1()\n",
    "p1(4,5,6)\n",
    "p1(a='python', b='itcast')\n",
    " \n",
    "p2=functools.partial(showarg, a=3,b='linux')\n",
    "p2()\n",
    "p2(1,2)\n",
    "p2(a='python', b='itcast')"
   ]
  },
  {
   "cell_type": "code",
   "execution_count": 13,
   "metadata": {},
   "outputs": [],
   "source": [
    "import random as RND\n",
    "fnx = lambda: RND.randint(0, 10)\n",
    "data = [ (fnx(), fnx()) for c in range(10) ]\n",
    "target = (2, 4)\n",
    " \n",
    "import math\n",
    "def euclid_dist(v1, v2):\n",
    "    x1, y1 = v1\n",
    "    x2, y2 = v2\n",
    "    return math.sqrt((x2 - x1)**2 + (y2 - y1)**2)"
   ]
  },
  {
   "cell_type": "code",
   "execution_count": 14,
   "metadata": {},
   "outputs": [],
   "source": [
    "# 其中data中包含了一系列的点的坐标，我们想要计算这些点到target点的距离并且进行排序。\n",
    "# 于是我们使用sort函数 ："
   ]
  },
  {
   "cell_type": "code",
   "execution_count": 15,
   "metadata": {},
   "outputs": [
    {
     "ename": "TypeError",
     "evalue": "euclid_dist() missing 1 required positional argument: 'v2'",
     "output_type": "error",
     "traceback": [
      "\u001b[1;31m---------------------------------------------------------------------------\u001b[0m",
      "\u001b[1;31mTypeError\u001b[0m                                 Traceback (most recent call last)",
      "\u001b[1;32m<ipython-input-15-6981b2d71e10>\u001b[0m in \u001b[0;36m<module>\u001b[1;34m()\u001b[0m\n\u001b[1;32m----> 1\u001b[1;33m \u001b[0mdata\u001b[0m\u001b[1;33m.\u001b[0m\u001b[0msort\u001b[0m\u001b[1;33m(\u001b[0m\u001b[0mkey\u001b[0m\u001b[1;33m=\u001b[0m\u001b[0meuclid_dist\u001b[0m\u001b[1;33m)\u001b[0m\u001b[1;33m\u001b[0m\u001b[0m\n\u001b[0m",
      "\u001b[1;31mTypeError\u001b[0m: euclid_dist() missing 1 required positional argument: 'v2'"
     ]
    }
   ],
   "source": [
    "data.sort(key=euclid_dist)"
   ]
  },
  {
   "cell_type": "code",
   "execution_count": 16,
   "metadata": {},
   "outputs": [],
   "source": [
    "p_euclid_dist = partial(euclid_dist,target)"
   ]
  },
  {
   "cell_type": "code",
   "execution_count": 17,
   "metadata": {},
   "outputs": [
    {
     "data": {
      "text/plain": [
       "1.4142135623730951"
      ]
     },
     "execution_count": 17,
     "metadata": {},
     "output_type": "execute_result"
    }
   ],
   "source": [
    "p_euclid_dist((3,3))"
   ]
  },
  {
   "cell_type": "code",
   "execution_count": 18,
   "metadata": {},
   "outputs": [],
   "source": [
    "data.sort(key=p_euclid_dist)"
   ]
  },
  {
   "cell_type": "code",
   "execution_count": 20,
   "metadata": {},
   "outputs": [
    {
     "name": "stdout",
     "output_type": "stream",
     "text": [
      "1.0\n",
      "2.0\n",
      "3.606\n",
      "4.123\n",
      "4.472\n",
      "5.385\n",
      "5.831\n",
      "5.831\n",
      "6.0\n",
      "7.81\n"
     ]
    }
   ],
   "source": [
    "for p in data:\n",
    "    print(round(p_euclid_dist(p),3))"
   ]
  },
  {
   "cell_type": "code",
   "execution_count": 7,
   "metadata": {},
   "outputs": [],
   "source": [
    "# wraps函数\n",
    "# 使用装饰器时，有一些细节需要被注意。例如，被装饰后的函数其实已经是另外一个函数了（函数名等函数属性会发生改变）。\n",
    "\n",
    "# 添加后由于函数名和函数的doc发生了改变，对测试结果有一些影响，例如:"
   ]
  },
  {
   "cell_type": "code",
   "execution_count": 8,
   "metadata": {},
   "outputs": [
    {
     "name": "stdout",
     "output_type": "stream",
     "text": [
      "note something\n",
      "I am test\n",
      "wrapper function\n"
     ]
    }
   ],
   "source": [
    "def note(func):\n",
    "    \"note function\"\n",
    "    def wrapper():\n",
    "        \"wrapper function\"\n",
    "        print('note something')\n",
    "        return func()\n",
    "    return wrapper\n",
    " \n",
    "@note\n",
    "def test():\n",
    "    \"test function\"\n",
    "    print('I am test')\n",
    " \n",
    "test()\n",
    "print(test.__doc__)\n"
   ]
  },
  {
   "cell_type": "code",
   "execution_count": 9,
   "metadata": {},
   "outputs": [],
   "source": [
    "# 所以，Python的functools包中提供了一个叫wraps的装饰器来消除这样的副作用。例如："
   ]
  },
  {
   "cell_type": "code",
   "execution_count": 10,
   "metadata": {},
   "outputs": [
    {
     "name": "stdout",
     "output_type": "stream",
     "text": [
      "note something\n",
      "I am test\n",
      "test function\n"
     ]
    }
   ],
   "source": [
    "import functools\n",
    "def note(func):\n",
    "    \"note function\"\n",
    "    @functools.wraps(func)\n",
    "    def wrapper():\n",
    "        \"wrapper function\"\n",
    "        print('note something')\n",
    "        return func()\n",
    "    return wrapper\n",
    " \n",
    "@note\n",
    "def test():\n",
    "    \"test function\"\n",
    "    print('I am test')\n",
    " \n",
    "test()\n",
    "print(test.__doc__)"
   ]
  },
  {
   "cell_type": "code",
   "execution_count": 11,
   "metadata": {},
   "outputs": [],
   "source": [
    "# wraps 源代码如下， 这里需要特别指出的是，对于装饰器函数，其第一个参数待装饰的函数，\n",
    "# 类比类方法，其第一个参数是用__new__()方法创建的实例"
   ]
  },
  {
   "cell_type": "code",
   "execution_count": 21,
   "metadata": {},
   "outputs": [],
   "source": [
    "# An LRU (least recently used) cache works best when the most recent calls are the best \n",
    "# predictors of upcoming calls (for example, the most popular articles on a news server tend to change each day). \n",
    "# The cache’s size limit assures that the \n",
    "# cache does not grow without bound on long-running processes such as web servers."
   ]
  },
  {
   "cell_type": "code",
   "execution_count": 30,
   "metadata": {},
   "outputs": [],
   "source": [
    "from functools import lru_cache\n",
    "import urllib.request\n",
    "\n",
    "@lru_cache(maxsize=32)\n",
    "def get_pep(num):\n",
    "    'Retrieve text of a Python Enhancement Proposal'\n",
    "    resource = 'http://www.python.org/dev/peps/pep-%04d/' % num\n",
    "    try:\n",
    "        with urllib.request.urlopen(resource) as s:\n",
    "            return s.read()\n",
    "    except urllib.error.HTTPError:\n",
    "        return 'Not Found'"
   ]
  },
  {
   "cell_type": "code",
   "execution_count": 32,
   "metadata": {},
   "outputs": [
    {
     "name": "stdout",
     "output_type": "stream",
     "text": [
      "8 106438\n",
      "290 59765\n",
      "308 56971\n",
      "320 49550\n",
      "8 106438\n",
      "218 46794\n",
      "320 49550\n",
      "279 48552\n",
      "289 50881\n",
      "320 49550\n",
      "9991 9\n"
     ]
    }
   ],
   "source": [
    "for n in 8, 290, 308, 320, 8, 218, 320, 279, 289, 320, 9991:\n",
    "    pep = get_pep(n)\n",
    "    print(n, len(pep))"
   ]
  },
  {
   "cell_type": "code",
   "execution_count": 33,
   "metadata": {},
   "outputs": [
    {
     "data": {
      "text/plain": [
       "CacheInfo(hits=14, misses=8, maxsize=32, currsize=8)"
      ]
     },
     "execution_count": 33,
     "metadata": {},
     "output_type": "execute_result"
    }
   ],
   "source": [
    "get_pep.cache_info()"
   ]
  },
  {
   "cell_type": "code",
   "execution_count": null,
   "metadata": {},
   "outputs": [],
   "source": []
  }
 ],
 "metadata": {
  "kernelspec": {
   "display_name": "Python 3",
   "language": "python",
   "name": "python3"
  },
  "language_info": {
   "codemirror_mode": {
    "name": "ipython",
    "version": 3
   },
   "file_extension": ".py",
   "mimetype": "text/x-python",
   "name": "python",
   "nbconvert_exporter": "python",
   "pygments_lexer": "ipython3",
   "version": "3.6.5"
  }
 },
 "nbformat": 4,
 "nbformat_minor": 2
}

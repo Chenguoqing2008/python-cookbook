{
 "cells": [
  {
   "cell_type": "code",
   "execution_count": 1,
   "metadata": {},
   "outputs": [],
   "source": [
    "# namedtuple类位于collections模块,有了namedtuple后通过属性访问数据能够让我们的代码更加的直观更好维护。\n",
    "# namedtuple能够用来创建类似于元祖的数据类型，除了能够用索引来访问数据，能够迭代，还能够方便的通过属性名来访问数据。"
   ]
  },
  {
   "cell_type": "code",
   "execution_count": 2,
   "metadata": {},
   "outputs": [
    {
     "data": {
      "text/plain": [
       "\"\\n基本定义\\n\\ncollections.namedtuple(typename, field_names, *, rename=False, defaults=None, module=None)\\n\\n（1）返回一个名为typename的新元组子类\\n\\n（2）新的子类用于创建类似元组的对象，这些对象具有可通过属性查找访问的字段以及可索引和可\\u200b\\u200b迭代的字段field_names\\n\\ntypename\\n\\n（1）typename表示这个子类的名字，比如C++、python、Java中的类名\\n\\nfield_names\\n\\n（1）field_names是一个字符串序列，例如['x'，'y']\\n\\n（2）field_names可以是单个字符串，每个字段名都用空格或逗号分隔，例如'x y'或'x，y'\\n\\nothers\\n\\n（1）其它的参数并不常用，这里不再介绍啦\\n\""
      ]
     },
     "execution_count": 2,
     "metadata": {},
     "output_type": "execute_result"
    }
   ],
   "source": [
    "# 函数原型定义\n",
    "'''\n",
    "基本定义\n",
    "\n",
    "collections.namedtuple(typename, field_names, *, rename=False, defaults=None, module=None)\n",
    "\n",
    "（1）返回一个名为typename的新元组子类\n",
    "\n",
    "（2）新的子类用于创建类似元组的对象，这些对象具有可通过属性查找访问的字段以及可索引和可​​迭代的字段field_names\n",
    "\n",
    "typename\n",
    "\n",
    "（1）typename表示这个子类的名字，比如C++、python、Java中的类名\n",
    "\n",
    "field_names\n",
    "\n",
    "（1）field_names是一个字符串序列，例如['x'，'y']\n",
    "\n",
    "（2）field_names可以是单个字符串，每个字段名都用空格或逗号分隔，例如'x y'或'x，y'\n",
    "\n",
    "others\n",
    "\n",
    "（1）其它的参数并不常用，这里不再介绍啦\n",
    "'''\n"
   ]
  },
  {
   "cell_type": "code",
   "execution_count": 3,
   "metadata": {},
   "outputs": [
    {
     "name": "stdout",
     "output_type": "stream",
     "text": [
      "33\n",
      "11 22\n",
      "33\n",
      "Point(x=11, y=22)\n"
     ]
    }
   ],
   "source": [
    "from collections import namedtuple\n",
    " \n",
    "# 基本例子\n",
    "Point = namedtuple('Point',['x','y']) # 类名为Point,属性有'x'和'y'\n",
    " \n",
    "p = Point(11, y=22) # 用位置或关键字参数实例化，因为'x'在'y'前，所以x=11,和函数参数赋值一样的\n",
    "print(p[0]+p[1]) # 我们也可以使用下标来访问\n",
    "# 33\n",
    " \n",
    "x, y = p # 也可以像一个元组那样解析\n",
    "print(x,y)\n",
    "# (11, 22)\n",
    " \n",
    "print(p.x+p.y) # 也可以通过属性名来访问\n",
    "# 33\n",
    " \n",
    "print(p) # 通过内置的__repr__函数，显示该对象的信息\n",
    "# Point(x=11, y=22)"
   ]
  },
  {
   "cell_type": "code",
   "execution_count": 4,
   "metadata": {},
   "outputs": [],
   "source": [
    "# classmethod somenamedtuple._make(iterable)\n",
    "\n",
    "#（1）从一个序列或者可迭代对象中直接对field_names中的属性直接赋值，返回一个对象"
   ]
  },
  {
   "cell_type": "code",
   "execution_count": 5,
   "metadata": {},
   "outputs": [
    {
     "name": "stdout",
     "output_type": "stream",
     "text": [
      "Point(x=11, y=22)\n"
     ]
    }
   ],
   "source": [
    "t = [11, 22] # 列表 list\n",
    "p = Point._make(t) # 从列表中直接赋值，返回对象\n",
    "print(Point(x=11, y=22))\n",
    "# Point(x=11, y=22)"
   ]
  },
  {
   "cell_type": "code",
   "execution_count": 6,
   "metadata": {},
   "outputs": [],
   "source": [
    "#   classmethod somenamedtuple._asdict()\n",
    "\n",
    "# （1）之前也说过了，说它是元组，感觉更像一个带名字的字典\n",
    "\n",
    "#（2）我们也可以直接使用_asdict()将它解析为一个字典dict"
   ]
  },
  {
   "cell_type": "code",
   "execution_count": 7,
   "metadata": {},
   "outputs": [
    {
     "name": "stdout",
     "output_type": "stream",
     "text": [
      "OrderedDict([('x', 11), ('y', 22)])\n"
     ]
    }
   ],
   "source": [
    "p = Point(x=11, y=22) # 新建一个对象\n",
    "d = p._asdict() # 解析并返回一个字典对象\n",
    "print(d)\n",
    "# {'x': 11, 'y': 22}"
   ]
  },
  {
   "cell_type": "code",
   "execution_count": 8,
   "metadata": {},
   "outputs": [],
   "source": [
    "#  classmethod somenamedtuple._replace(**kwargs)\n",
    "\n",
    "# （1）这是对某些属性的值，进行修改的，从replace这个单词就可以看出来\n",
    "\n",
    "#（2）注意该函数返回的是一个新的对象，而不是对原始对象进行修改"
   ]
  },
  {
   "cell_type": "code",
   "execution_count": 9,
   "metadata": {},
   "outputs": [
    {
     "name": "stdout",
     "output_type": "stream",
     "text": [
      "Point(x=11, y=22)\n",
      "Point(x=11, y=22)\n",
      "Point(x=33, y=22)\n"
     ]
    }
   ],
   "source": [
    "p = Point(x=11, y=22) # x=11,y=22\n",
    "print(p)\n",
    "# Point(x=11, y=22)\n",
    " \n",
    "d = p._replace(x=33) # x=33,y=22 新的对象\n",
    "print(p)\n",
    "# Point(x=11, y=22)\n",
    "print(d)\n",
    "# Point(x=33, y=22)"
   ]
  },
  {
   "cell_type": "code",
   "execution_count": 11,
   "metadata": {},
   "outputs": [],
   "source": [
    "#  classmethod somenamedtuple._fields\n",
    "\n",
    "#（1）该方法返回该对象的所有属性名，以元组的形式\n",
    "\n",
    "#（2）因为是元组，因此支持加法操作"
   ]
  },
  {
   "cell_type": "code",
   "execution_count": 12,
   "metadata": {},
   "outputs": [
    {
     "name": "stdout",
     "output_type": "stream",
     "text": [
      "('x', 'y')\n",
      "Pixel(x=11, y=22, red=128, green=255, blue=0)\n"
     ]
    }
   ],
   "source": [
    "print(p._fields) # 查看属性名\n",
    "# ('x', 'y')\n",
    " \n",
    "Color = namedtuple('Color', 'red green blue')\n",
    "Pixel = namedtuple('Pixel', Point._fields + Color._fields) # 新建一个子类，使用多个属性名\n",
    "q = Pixel(11, 22, 128, 255, 0)\n",
    "print(q)\n"
   ]
  },
  {
   "cell_type": "code",
   "execution_count": 13,
   "metadata": {},
   "outputs": [],
   "source": [
    "# getattr()函数\n",
    "\n",
    "#（1）用来获得属性的值"
   ]
  },
  {
   "cell_type": "code",
   "execution_count": 14,
   "metadata": {},
   "outputs": [
    {
     "name": "stdout",
     "output_type": "stream",
     "text": [
      "11\n"
     ]
    }
   ],
   "source": [
    "print(getattr(p, 'x'))\n",
    "# 11"
   ]
  },
  {
   "cell_type": "code",
   "execution_count": 16,
   "metadata": {},
   "outputs": [],
   "source": [
    "# 字典创建namedtuple()\n",
    "\n",
    "# （1）从字典来构建namedtuple的对象"
   ]
  },
  {
   "cell_type": "code",
   "execution_count": 17,
   "metadata": {},
   "outputs": [
    {
     "name": "stdout",
     "output_type": "stream",
     "text": [
      "Point(x=11, y=22)\n"
     ]
    }
   ],
   "source": [
    "d = {'x': 11, 'y': 22} # 字典\n",
    "p = Point(**d) # 双星号是重点\n",
    "print(p)\n",
    "# Point(x=11, y=22)"
   ]
  },
  {
   "cell_type": "code",
   "execution_count": 18,
   "metadata": {},
   "outputs": [],
   "source": [
    "#  CSV OR Sqlite3\n",
    "\n",
    "#（1）同样可以将从csv文件或者数据库中读取的文件存储到namedtuple中\n",
    "\n",
    "#（2）这里每次存的都是一行的内容"
   ]
  },
  {
   "cell_type": "code",
   "execution_count": 19,
   "metadata": {},
   "outputs": [
    {
     "data": {
      "text/plain": [
       "'\\nEmployeeRecord = namedtuple(\\'EmployeeRecord\\', \\'name, age, title, department, paygrade\\')\\n \\nimport csv\\nfor emp in map(EmployeeRecord._make, csv.reader(open(\"employees.csv\", \"r\"))):\\n # 这里每行返回一个对象 注意！\\n print(emp.name, emp.title)\\n \\nimport sqlite3\\nconn = sqlite3.connect(\\'/companydata\\') # 连接数据库\\ncursor = conn.cursor()\\ncursor.execute(\\'SELECT name, age, title, department, paygrade FROM employees\\')\\nfor emp in map(EmployeeRecord._make, cursor.fetchall()):\\n # 每行返回一个对象 注意！\\n print(emp.name, emp.title)\\n\\n'"
      ]
     },
     "execution_count": 19,
     "metadata": {},
     "output_type": "execute_result"
    }
   ],
   "source": [
    "'''\n",
    "EmployeeRecord = namedtuple('EmployeeRecord', 'name, age, title, department, paygrade')\n",
    " \n",
    "import csv\n",
    "for emp in map(EmployeeRecord._make, csv.reader(open(\"employees.csv\", \"r\"))):\n",
    " # 这里每行返回一个对象 注意！\n",
    " print(emp.name, emp.title)\n",
    " \n",
    "import sqlite3\n",
    "conn = sqlite3.connect('/companydata') # 连接数据库\n",
    "cursor = conn.cursor()\n",
    "cursor.execute('SELECT name, age, title, department, paygrade FROM employees')\n",
    "for emp in map(EmployeeRecord._make, cursor.fetchall()):\n",
    " # 每行返回一个对象 注意！\n",
    " print(emp.name, emp.title)\n",
    "\n",
    "'''"
   ]
  },
  {
   "cell_type": "code",
   "execution_count": 20,
   "metadata": {},
   "outputs": [
    {
     "data": {
      "text/plain": [
       "'\\nPython中存储系列数据，比较常见的数据类型有list，除此之外，还有tuple数据类型。\\n相比与list，tuple中的元素不可修改，在映射中可以当键使用。tuple元组的item只能\\n通过index访问，collections模块的namedtuple子类不仅可以使用item的index访问item，\\n还可以通过item的name进行访问。可以将namedtuple理解为c中的struct结构，其首先将各个item命名，然后对每个item赋予数据。\\n'"
      ]
     },
     "execution_count": 20,
     "metadata": {},
     "output_type": "execute_result"
    }
   ],
   "source": [
    "'''\n",
    "Python中存储系列数据，比较常见的数据类型有list，除此之外，还有tuple数据类型。\n",
    "相比与list，tuple中的元素不可修改，在映射中可以当键使用。tuple元组的item只能\n",
    "通过index访问，collections模块的namedtuple子类不仅可以使用item的index访问item，\n",
    "还可以通过item的name进行访问。可以将namedtuple理解为c中的struct结构，其首先将各个item命名，然后对每个item赋予数据。\n",
    "'''"
   ]
  },
  {
   "cell_type": "code",
   "execution_count": null,
   "metadata": {},
   "outputs": [],
   "source": []
  }
 ],
 "metadata": {
  "kernelspec": {
   "display_name": "Python 3",
   "language": "python",
   "name": "python3"
  },
  "language_info": {
   "codemirror_mode": {
    "name": "ipython",
    "version": 3
   },
   "file_extension": ".py",
   "mimetype": "text/x-python",
   "name": "python",
   "nbconvert_exporter": "python",
   "pygments_lexer": "ipython3",
   "version": "3.7.5"
  }
 },
 "nbformat": 4,
 "nbformat_minor": 4
}

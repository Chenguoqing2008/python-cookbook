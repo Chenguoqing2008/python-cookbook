{
 "cells": [
  {
   "cell_type": "code",
   "execution_count": 1,
   "metadata": {},
   "outputs": [
    {
     "name": "stdout",
     "output_type": "stream",
     "text": [
      "学习\n"
     ]
    }
   ],
   "source": [
    "import enum\n",
    "\n",
    "\n",
    "@enum.unique\n",
    "class WeekDays(enum.IntEnum):\n",
    "    # 枚举常量列表\n",
    "    MONDAY = 1\n",
    "    TUESDAY = 2\n",
    "    WEDNESDAY = 3  # 'Wed.'\n",
    "    THURSDAY = 4\n",
    "    FRIDAY = 5  # 1\n",
    "\n",
    "\n",
    "day = WeekDays.FRIDAY\n",
    "\n",
    "if day == WeekDays.MONDAY:\n",
    "    print('工作')\n",
    "elif day == WeekDays.FRIDAY:\n",
    "    print('学习')"
   ]
  },
  {
   "cell_type": "code",
   "execution_count": null,
   "metadata": {},
   "outputs": [],
   "source": []
  }
 ],
 "metadata": {
  "kernelspec": {
   "display_name": "Python 3",
   "language": "python",
   "name": "python3"
  },
  "language_info": {
   "codemirror_mode": {
    "name": "ipython",
    "version": 3
   },
   "file_extension": ".py",
   "mimetype": "text/x-python",
   "name": "python",
   "nbconvert_exporter": "python",
   "pygments_lexer": "ipython3",
   "version": "3.6.5"
  }
 },
 "nbformat": 4,
 "nbformat_minor": 2
}
